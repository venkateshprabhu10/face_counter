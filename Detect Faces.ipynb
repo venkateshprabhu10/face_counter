{
 "cells": [
  {
   "cell_type": "code",
   "execution_count": 1,
   "metadata": {},
   "outputs": [],
   "source": [
    "import numpy as np\n",
    "import cv2"
   ]
  },
  {
   "cell_type": "code",
   "execution_count": 17,
   "metadata": {},
   "outputs": [],
   "source": [
    "prototxt = 'deploy.prototxt.txt'\n",
    "model = 'res10_300x300_ssd_iter_140000.caffemodel'\n",
    "payload = 'selfie.jpg'"
   ]
  },
  {
   "cell_type": "code",
   "execution_count": 18,
   "metadata": {},
   "outputs": [],
   "source": [
    "base_confidence = 0.6\n",
    "\n",
    "def detectFaces(prototxt, model, img_path):\n",
    "    face_count = 0\n",
    "    \n",
    "    print(\"[INFO] loading model...\")\n",
    "    net = cv2.dnn.readNetFromCaffe(prototxt, model)\n",
    "    img = cv2.imread(img_path)\n",
    "    (h, w) = img.shape[:2]\n",
    "    blob = cv2.dnn.blobFromImage(cv2.resize(img, (600, 600)), 1.0, (600, 600), (104.0, 177.0, 123.0))\n",
    "    \n",
    "    print(\"[INFO] computing object detections...\")\n",
    "    net.setInput(blob)\n",
    "    detections = net.forward()\n",
    "    \n",
    "    for i in range(detections.shape[2]):\n",
    "        confidence = detections[0, 0, i, 2]\n",
    "        \n",
    "        if confidence > base_confidence:\n",
    "            box = detections[0, 0, i, 3:7] * np.array([w, h, w, h])\n",
    "            (startX, startY, endX, endY) = box.astype(\"int\")\n",
    "            \n",
    "            y = startY - 10 if startY - 10 > 10 else startY + 10\n",
    "            cv2.rectangle(img, (startX, startY), (endX, endY), (255, 255, 0), 2)\n",
    "            cv2.putText(img, f\"{round(confidence*100, 2)}%\", (startX, y), cv2.FONT_HERSHEY_SIMPLEX, 0.5, (255, 255, 0), 1)\n",
    "            face_count = face_count + 1\n",
    "            \n",
    "    cv2.putText(img, f\"Total Faces: {face_count}\", (20, 20), cv2.FONT_HERSHEY_SIMPLEX, 0.45, (255, 255, 0), 2)        \n",
    "    cv2.imshow(\"Output\", img)\n",
    "    \n",
    "    if cv2.waitKey(0) == ord('q'):\n",
    "        print(\"[INFO] quitting...\")\n",
    "        cv2.destroyAllWindows()"
   ]
  },
  {
   "cell_type": "code",
   "execution_count": 19,
   "metadata": {},
   "outputs": [
    {
     "name": "stdout",
     "output_type": "stream",
     "text": [
      "[INFO] loading model...\n",
      "[INFO] computing object detections...\n",
      "[INFO] quitting...\n"
     ]
    }
   ],
   "source": [
    "detectFaces(prototxt, model, payload)"
   ]
  },
  {
   "cell_type": "code",
   "execution_count": null,
   "metadata": {},
   "outputs": [],
   "source": []
  }
 ],
 "metadata": {
  "kernelspec": {
   "display_name": "Python 3",
   "language": "python",
   "name": "python3"
  },
  "language_info": {
   "codemirror_mode": {
    "name": "ipython",
    "version": 3
   },
   "file_extension": ".py",
   "mimetype": "text/x-python",
   "name": "python",
   "nbconvert_exporter": "python",
   "pygments_lexer": "ipython3",
   "version": "3.7.1"
  }
 },
 "nbformat": 4,
 "nbformat_minor": 2
}
